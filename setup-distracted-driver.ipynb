{
 "cells": [
  {
   "cell_type": "code",
   "execution_count": 1,
   "metadata": {},
   "outputs": [
    {
     "name": "stdout",
     "output_type": "stream",
     "text": [
      "distracted_driver_fastai-aws.ipynb    object_detection_fastai.ipynb\r\n",
      "distracted_driver_fastai.ipynb\t      pascal-data\r\n",
      "IntroToDeepLearningForBeginners.pptx  PASCAL_VOC.zip\r\n",
      "lecture_1\t\t\t      setup-distracted-driver.ipynb\r\n",
      "lecture_2\t\t\t      setup_object_detection.ipynb\r\n",
      "object_detection_fastai-aws.ipynb     VOCtrainval_06-Nov-2007.tar\r\n"
     ]
    }
   ],
   "source": [
    "#Just checking to see what directories are visible\n",
    "!ls"
   ]
  },
  {
   "cell_type": "code",
   "execution_count": 2,
   "metadata": {},
   "outputs": [],
   "source": [
    "#Create directory for holding all the data\n",
    "!mkdir distracted_driver-data"
   ]
  },
  {
   "cell_type": "code",
   "execution_count": 3,
   "metadata": {},
   "outputs": [
    {
     "name": "stdout",
     "output_type": "stream",
     "text": [
      "distracted_driver-data\t\t      object_detection_fastai.ipynb\r\n",
      "distracted_driver_fastai-aws.ipynb    pascal-data\r\n",
      "distracted_driver_fastai.ipynb\t      PASCAL_VOC.zip\r\n",
      "IntroToDeepLearningForBeginners.pptx  setup-distracted-driver.ipynb\r\n",
      "lecture_1\t\t\t      setup_object_detection.ipynb\r\n",
      "lecture_2\t\t\t      VOCtrainval_06-Nov-2007.tar\r\n",
      "object_detection_fastai-aws.ipynb\r\n"
     ]
    }
   ],
   "source": [
    "#Just checking that the data directory was installed\n",
    "!ls"
   ]
  },
  {
   "cell_type": "code",
   "execution_count": 4,
   "metadata": {},
   "outputs": [],
   "source": [
    "!pip install kaggle-cli --quiet"
   ]
  },
  {
   "cell_type": "code",
   "execution_count": 5,
   "metadata": {},
   "outputs": [],
   "source": [
    "!kg config -g -u esteban.j.guillen@gmail.com -p wildcats -c state-farm-distracted-driver-detection"
   ]
  },
  {
   "cell_type": "code",
   "execution_count": 6,
   "metadata": {},
   "outputs": [
    {
     "name": "stdout",
     "output_type": "stream",
     "text": [
      "downloading https://www.kaggle.com/c/state-farm-distracted-driver-detection/download/imgs.zip\n",
      "\n",
      "imgs.zip 100% |#####################################| Time: 0:01:32  44.3 MiB/s\n",
      "\n"
     ]
    }
   ],
   "source": [
    "!kg download -f imgs.zip"
   ]
  },
  {
   "cell_type": "code",
   "execution_count": 7,
   "metadata": {},
   "outputs": [],
   "source": [
    "!unzip -qq imgs.zip -d distracted_driver-data/"
   ]
  },
  {
   "cell_type": "code",
   "execution_count": 8,
   "metadata": {},
   "outputs": [
    {
     "name": "stdout",
     "output_type": "stream",
     "text": [
      "distracted_driver-data\t\t      object_detection_fastai-aws.ipynb\r\n",
      "distracted_driver_fastai-aws.ipynb    object_detection_fastai.ipynb\r\n",
      "distracted_driver_fastai.ipynb\t      pascal-data\r\n",
      "imgs.zip\t\t\t      PASCAL_VOC.zip\r\n",
      "IntroToDeepLearningForBeginners.pptx  setup-distracted-driver.ipynb\r\n",
      "lecture_1\t\t\t      setup_object_detection.ipynb\r\n",
      "lecture_2\t\t\t      VOCtrainval_06-Nov-2007.tar\r\n"
     ]
    }
   ],
   "source": [
    "!ls"
   ]
  },
  {
   "cell_type": "code",
   "execution_count": 9,
   "metadata": {},
   "outputs": [
    {
     "name": "stdout",
     "output_type": "stream",
     "text": [
      "downloading https://www.kaggle.com/c/state-farm-distracted-driver-detection/download/driver_imgs_list.csv.zip\n",
      "\n",
      "driver_imgs_list.csv.zip 100% |#####################| Time: 0:00:00 225.9 KiB/s\n",
      "\n"
     ]
    }
   ],
   "source": [
    "!kg download -f driver_imgs_list.csv.zip"
   ]
  },
  {
   "cell_type": "code",
   "execution_count": 10,
   "metadata": {},
   "outputs": [
    {
     "name": "stdout",
     "output_type": "stream",
     "text": [
      "Archive:  driver_imgs_list.csv.zip\r\n",
      "  inflating: distracted_driver-data/driver_imgs_list.csv  \r\n"
     ]
    }
   ],
   "source": [
    "!unzip driver_imgs_list.csv.zip -d distracted_driver-data"
   ]
  },
  {
   "cell_type": "code",
   "execution_count": null,
   "metadata": {},
   "outputs": [],
   "source": []
  }
 ],
 "metadata": {
  "kernelspec": {
   "display_name": "Python 3",
   "language": "python",
   "name": "python3"
  },
  "language_info": {
   "codemirror_mode": {
    "name": "ipython",
    "version": 3
   },
   "file_extension": ".py",
   "mimetype": "text/x-python",
   "name": "python",
   "nbconvert_exporter": "python",
   "pygments_lexer": "ipython3",
   "version": "3.6.4"
  }
 },
 "nbformat": 4,
 "nbformat_minor": 2
}
