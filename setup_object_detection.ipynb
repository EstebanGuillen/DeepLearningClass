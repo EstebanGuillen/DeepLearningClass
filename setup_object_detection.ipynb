{
 "cells": [
  {
   "cell_type": "code",
   "execution_count": 1,
   "metadata": {},
   "outputs": [],
   "source": [
    "#Create directory for holding all the data\n",
    "!mkdir pascal-data/"
   ]
  },
  {
   "cell_type": "code",
   "execution_count": 2,
   "metadata": {},
   "outputs": [
    {
     "name": "stdout",
     "output_type": "stream",
     "text": [
      "IntroToDeepLearningForBeginners.pptx  object_detection_fastai.ipynb\r\n",
      "lecture_1\t\t\t      pascal-data\r\n",
      "lecture_2\t\t\t      setup.ipynb\r\n",
      "object_detection_fastai-aws.ipynb     Setup.ipynb\r\n"
     ]
    }
   ],
   "source": [
    "#Just checking that the data directory was installed\n",
    "!ls"
   ]
  },
  {
   "cell_type": "code",
   "execution_count": 3,
   "metadata": {},
   "outputs": [
    {
     "name": "stdout",
     "output_type": "stream",
     "text": [
      "--2018-08-19 23:27:34--  http://pjreddie.com/media/files/VOCtrainval_06-Nov-2007.tar\n",
      "Resolving pjreddie.com (pjreddie.com)... 128.208.3.39\n",
      "Connecting to pjreddie.com (pjreddie.com)|128.208.3.39|:80... connected.\n",
      "HTTP request sent, awaiting response... 301 Moved Permanently\n",
      "Location: https://pjreddie.com/media/files/VOCtrainval_06-Nov-2007.tar [following]\n",
      "--2018-08-19 23:27:34--  https://pjreddie.com/media/files/VOCtrainval_06-Nov-2007.tar\n",
      "Connecting to pjreddie.com (pjreddie.com)|128.208.3.39|:443... connected.\n",
      "HTTP request sent, awaiting response... 200 OK\n",
      "Length: 460032000 (439M) [application/octet-stream]\n",
      "Saving to: ‘VOCtrainval_06-Nov-2007.tar’\n",
      "\n",
      "VOCtrainval_06-Nov- 100%[===================>] 438.72M  24.7MB/s    in 18s     \n",
      "\n",
      "2018-08-19 23:27:53 (24.1 MB/s) - ‘VOCtrainval_06-Nov-2007.tar’ saved [460032000/460032000]\n",
      "\n"
     ]
    }
   ],
   "source": [
    "#Download the dataset\n",
    "!wget http://pjreddie.com/media/files/VOCtrainval_06-Nov-2007.tar"
   ]
  },
  {
   "cell_type": "code",
   "execution_count": 4,
   "metadata": {},
   "outputs": [
    {
     "name": "stdout",
     "output_type": "stream",
     "text": [
      "IntroToDeepLearningForBeginners.pptx  pascal-data\r\n",
      "lecture_1\t\t\t      setup.ipynb\r\n",
      "lecture_2\t\t\t      Setup.ipynb\r\n",
      "object_detection_fastai-aws.ipynb     VOCtrainval_06-Nov-2007.tar\r\n",
      "object_detection_fastai.ipynb\r\n"
     ]
    }
   ],
   "source": [
    "#Make sure the dataset downloaded\n",
    "!ls"
   ]
  },
  {
   "cell_type": "code",
   "execution_count": 5,
   "metadata": {},
   "outputs": [],
   "source": [
    "#Unzip dataset to data directory\n",
    "!tar xf VOCtrainval_06-Nov-2007.tar --directory pascal-data/"
   ]
  },
  {
   "cell_type": "code",
   "execution_count": 6,
   "metadata": {},
   "outputs": [
    {
     "name": "stdout",
     "output_type": "stream",
     "text": [
      "--2018-08-19 23:28:36--  https://storage.googleapis.com/coco-dataset/external/PASCAL_VOC.zip\n",
      "Resolving storage.googleapis.com (storage.googleapis.com)... 172.217.7.240, 2607:f8b0:4004:811::2010\n",
      "Connecting to storage.googleapis.com (storage.googleapis.com)|172.217.7.240|:443... connected.\n",
      "HTTP request sent, awaiting response... 200 OK\n",
      "Length: 1998182 (1.9M) [application/zip]\n",
      "Saving to: ‘PASCAL_VOC.zip’\n",
      "\n",
      "PASCAL_VOC.zip      100%[===================>]   1.91M  --.-KB/s    in 0.02s   \n",
      "\n",
      "2018-08-19 23:28:37 (82.9 MB/s) - ‘PASCAL_VOC.zip’ saved [1998182/1998182]\n",
      "\n"
     ]
    }
   ],
   "source": [
    "#Download the annotations in json\n",
    "!wget https://storage.googleapis.com/coco-dataset/external/PASCAL_VOC.zip"
   ]
  },
  {
   "cell_type": "code",
   "execution_count": 7,
   "metadata": {},
   "outputs": [
    {
     "name": "stdout",
     "output_type": "stream",
     "text": [
      "IntroToDeepLearningForBeginners.pptx  pascal-data\r\n",
      "lecture_1\t\t\t      PASCAL_VOC.zip\r\n",
      "lecture_2\t\t\t      setup.ipynb\r\n",
      "object_detection_fastai-aws.ipynb     Setup.ipynb\r\n",
      "object_detection_fastai.ipynb\t      VOCtrainval_06-Nov-2007.tar\r\n"
     ]
    }
   ],
   "source": [
    "#Make sure the dataset downloaded\n",
    "!ls"
   ]
  },
  {
   "cell_type": "code",
   "execution_count": 8,
   "metadata": {},
   "outputs": [],
   "source": [
    "#Unzip dataset annotations to data directory\n",
    "!unzip -qq PASCAL_VOC.zip -d pascal-data/"
   ]
  },
  {
   "cell_type": "code",
   "execution_count": null,
   "metadata": {},
   "outputs": [],
   "source": []
  }
 ],
 "metadata": {
  "kernelspec": {
   "display_name": "Python 3",
   "language": "python",
   "name": "python3"
  },
  "language_info": {
   "codemirror_mode": {
    "name": "ipython",
    "version": 3
   },
   "file_extension": ".py",
   "mimetype": "text/x-python",
   "name": "python",
   "nbconvert_exporter": "python",
   "pygments_lexer": "ipython3",
   "version": "3.6.4"
  }
 },
 "nbformat": 4,
 "nbformat_minor": 2
}
