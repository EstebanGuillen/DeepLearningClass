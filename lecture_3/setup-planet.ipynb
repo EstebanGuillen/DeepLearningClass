{
 "cells": [
  {
   "cell_type": "code",
   "execution_count": 11,
   "metadata": {},
   "outputs": [],
   "source": [
    "!kg config -g -u esteban.j.guillen@gmail.com -p sfu490instructor -c planet-understanding-the-amazon-from-space"
   ]
  },
  {
   "cell_type": "code",
   "execution_count": 12,
   "metadata": {},
   "outputs": [],
   "source": [
    "!mkdir planet-data"
   ]
  },
  {
   "cell_type": "code",
   "execution_count": 13,
   "metadata": {},
   "outputs": [
    {
     "name": "stdout",
     "output_type": "stream",
     "text": [
      "downloading https://www.kaggle.com/c/planet-understanding-the-amazon-from-space/download/train-jpg.tar.7z\n",
      "\n",
      "train-jpg.tar.7z already downloaded !\n"
     ]
    }
   ],
   "source": [
    "!kg download -f train-jpg.tar.7z"
   ]
  },
  {
   "cell_type": "code",
   "execution_count": 6,
   "metadata": {},
   "outputs": [
    {
     "name": "stdout",
     "output_type": "stream",
     "text": [
      "\n",
      "7-Zip (A) [64] 9.20  Copyright (c) 1999-2010 Igor Pavlov  2010-11-18\n",
      "p7zip Version 9.20 (locale=en_US.UTF-8,Utf16=on,HugeFiles=on,8 CPUs)\n",
      "\n",
      "Processing archive: train-jpg.tar.7z\n",
      "\n",
      "Extracting  train-jpg.tar\n",
      "\n",
      "Everything is Ok\n",
      "\n",
      "Size:       665753600\n",
      "Compressed: 629296207\n"
     ]
    }
   ],
   "source": [
    "!7za x train-jpg.tar.7z"
   ]
  },
  {
   "cell_type": "code",
   "execution_count": 7,
   "metadata": {},
   "outputs": [],
   "source": [
    "!tar xf train-jpg.tar --directory planet-data/"
   ]
  },
  {
   "cell_type": "code",
   "execution_count": 8,
   "metadata": {},
   "outputs": [
    {
     "name": "stdout",
     "output_type": "stream",
     "text": [
      "downloading https://www.kaggle.com/c/planet-understanding-the-amazon-from-space/download/train_v2.csv.zip\n",
      "\n",
      "train_v2.csv.zip 100% |#############################| Time: 0:00:00 291.2 KiB/s\n",
      "\n"
     ]
    }
   ],
   "source": [
    "!kg download -f train_v2.csv.zip"
   ]
  },
  {
   "cell_type": "code",
   "execution_count": 9,
   "metadata": {},
   "outputs": [
    {
     "name": "stdout",
     "output_type": "stream",
     "text": [
      "Archive:  train_v2.csv.zip\r\n",
      "  inflating: planet-data/train_v2.csv  \r\n",
      "   creating: planet-data/__MACOSX/\r\n",
      "  inflating: planet-data/__MACOSX/._train_v2.csv  \r\n"
     ]
    }
   ],
   "source": [
    "!unzip train_v2.csv.zip -d planet-data"
   ]
  },
  {
   "cell_type": "code",
   "execution_count": 10,
   "metadata": {},
   "outputs": [
    {
     "name": "stdout",
     "output_type": "stream",
     "text": [
      "data\t\t\t\t\t       pascal-data\r\n",
      "distracted_driver-data\t\t\t       PASCAL_VOC.zip\r\n",
      "distracted_driver_fastai-aws.ipynb\t       planet-data\r\n",
      "distracted_driver_fastai.ipynb\t\t       planet_fastai-aws.ipynb\r\n",
      "driver_imgs_list.csv.zip\t\t       planet_fastai.ipynb\r\n",
      "imgs.zip\t\t\t\t       setup-distracted-driver.ipynb\r\n",
      "IntroToDeepLearningForBeginners.pptx\t       setup_object_detection.ipynb\r\n",
      "lecture_1\t\t\t\t       setup-planet.ipynb\r\n",
      "lecture_2\t\t\t\t       train-jpg.tar\r\n",
      "mnist_pytorch_cnn_dropout_batchnorm-aws.ipynb  train-jpg.tar.7z\r\n",
      "mnist_pytorch_cnn_dropout_batchnorm.ipynb      train_v2.csv.zip\r\n",
      "object_detection_fastai-aws.ipynb\t       VOCtrainval_06-Nov-2007.tar\r\n",
      "object_detection_fastai.ipynb\r\n"
     ]
    }
   ],
   "source": [
    "!ls"
   ]
  },
  {
   "cell_type": "code",
   "execution_count": null,
   "metadata": {},
   "outputs": [],
   "source": []
  }
 ],
 "metadata": {
  "kernelspec": {
   "display_name": "Python 3",
   "language": "python",
   "name": "python3"
  },
  "language_info": {
   "codemirror_mode": {
    "name": "ipython",
    "version": 3
   },
   "file_extension": ".py",
   "mimetype": "text/x-python",
   "name": "python",
   "nbconvert_exporter": "python",
   "pygments_lexer": "ipython3",
   "version": "3.6.4"
  }
 },
 "nbformat": 4,
 "nbformat_minor": 2
}
