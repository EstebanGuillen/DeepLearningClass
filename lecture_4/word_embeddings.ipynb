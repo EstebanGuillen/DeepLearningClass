{
  "nbformat": 4,
  "nbformat_minor": 0,
  "metadata": {
    "colab": {
      "name": "word_embeddings.ipynb",
      "version": "0.3.2",
      "provenance": []
    },
    "kernelspec": {
      "display_name": "Python 3",
      "language": "python",
      "name": "python3"
    },
    "accelerator": "GPU"
  },
  "cells": [
    {
      "metadata": {
        "id": "vceUoWpOlHhk",
        "colab_type": "code",
        "colab": {}
      },
      "cell_type": "code",
      "source": [
        "%matplotlib inline"
      ],
      "execution_count": 0,
      "outputs": []
    },
    {
      "metadata": {
        "id": "BRQCYRoTlOd8",
        "colab_type": "code",
        "colab": {
          "base_uri": "https://localhost:8080/",
          "height": 34
        },
        "outputId": "b8af25c3-972e-4210-dc1f-9c23c2404983"
      },
      "cell_type": "code",
      "source": [
        "!pip install torch"
      ],
      "execution_count": 2,
      "outputs": [
        {
          "output_type": "stream",
          "text": [
            "Requirement already satisfied: torch in /usr/local/lib/python3.6/dist-packages (0.4.1)\r\n"
          ],
          "name": "stdout"
        }
      ]
    },
    {
      "metadata": {
        "id": "J_gqxshplEYJ",
        "colab_type": "code",
        "colab": {
          "base_uri": "https://localhost:8080/",
          "height": 102
        },
        "outputId": "b6a43380-1489-42d0-bcab-bc76a9af6133"
      },
      "cell_type": "code",
      "source": [
        "!pip install torchvision"
      ],
      "execution_count": 3,
      "outputs": [
        {
          "output_type": "stream",
          "text": [
            "Requirement already satisfied: torchvision in /usr/local/lib/python3.6/dist-packages (0.2.1)\r\n",
            "Requirement already satisfied: six in /usr/local/lib/python3.6/dist-packages (from torchvision) (1.11.0)\r\n",
            "Requirement already satisfied: numpy in /usr/local/lib/python3.6/dist-packages (from torchvision) (1.14.5)\r\n",
            "Requirement already satisfied: pillow>=4.1.1 in /usr/local/lib/python3.6/dist-packages (from torchvision) (5.2.0)\r\n",
            "Requirement already satisfied: torch in /usr/local/lib/python3.6/dist-packages (from torchvision) (0.4.1)\r\n"
          ],
          "name": "stdout"
        }
      ]
    },
    {
      "metadata": {
        "id": "iOtk8WOYlDPR",
        "colab_type": "code",
        "colab": {
          "base_uri": "https://localhost:8080/",
          "height": 306
        },
        "outputId": "91cbc12f-ce4f-4a88-ebc1-304d82955b70"
      },
      "cell_type": "code",
      "source": [
        "!pip install torchtext"
      ],
      "execution_count": 4,
      "outputs": [
        {
          "output_type": "stream",
          "text": [
            "Collecting torchtext\n",
            "\u001b[?25l  Downloading https://files.pythonhosted.org/packages/78/90/474d5944d43001a6e72b9aaed5c3e4f77516fbef2317002da2096fd8b5ea/torchtext-0.2.3.tar.gz (42kB)\n",
            "\u001b[K    100% |████████████████████████████████| 51kB 2.2MB/s \n",
            "\u001b[?25hCollecting tqdm (from torchtext)\n",
            "\u001b[?25l  Downloading https://files.pythonhosted.org/packages/c7/e0/52b2faaef4fd87f86eb8a8f1afa2cd6eb11146822033e29c04ac48ada32c/tqdm-4.25.0-py2.py3-none-any.whl (43kB)\n",
            "\u001b[K    100% |████████████████████████████████| 51kB 3.6MB/s \n",
            "\u001b[?25hRequirement already satisfied: requests in /usr/local/lib/python3.6/dist-packages (from torchtext) (2.18.4)\n",
            "Requirement already satisfied: urllib3<1.23,>=1.21.1 in /usr/local/lib/python3.6/dist-packages (from requests->torchtext) (1.22)\n",
            "Requirement already satisfied: chardet<3.1.0,>=3.0.2 in /usr/local/lib/python3.6/dist-packages (from requests->torchtext) (3.0.4)\n",
            "Requirement already satisfied: certifi>=2017.4.17 in /usr/local/lib/python3.6/dist-packages (from requests->torchtext) (2018.8.13)\n",
            "Requirement already satisfied: idna<2.7,>=2.5 in /usr/local/lib/python3.6/dist-packages (from requests->torchtext) (2.6)\n",
            "Building wheels for collected packages: torchtext\n",
            "  Running setup.py bdist_wheel for torchtext ... \u001b[?25l-\b \b\\\b \bdone\n",
            "\u001b[?25h  Stored in directory: /root/.cache/pip/wheels/42/a6/f4/b267328bde6bb680094a0c173e8e5627ccc99543abded97204\n",
            "Successfully built torchtext\n",
            "Installing collected packages: tqdm, torchtext\n",
            "Successfully installed torchtext-0.2.3 tqdm-4.25.0\n"
          ],
          "name": "stdout"
        }
      ]
    },
    {
      "metadata": {
        "id": "wqzuhFezlWA4",
        "colab_type": "text"
      },
      "cell_type": "markdown",
      "source": [
        "Restart: Runtime -> Restart runtime ..."
      ]
    },
    {
      "metadata": {
        "id": "Wh84yM5Ik-Ju",
        "colab_type": "code",
        "colab": {
          "base_uri": "https://localhost:8080/",
          "height": 68
        },
        "outputId": "4cada718-7d19-4315-ca44-5f1833096a2d"
      },
      "cell_type": "code",
      "source": [
        "import torchtext.vocab\n",
        "\n",
        "glove = torchtext.vocab.GloVe(name='6B', dim=100)\n",
        "\n",
        "print(f'There are {len(glove.itos)} words in the vocabulary')"
      ],
      "execution_count": 1,
      "outputs": [
        {
          "output_type": "stream",
          "text": [
            ".vector_cache/glove.6B.zip: 862MB [00:59, 14.4MB/s]                           \n",
            "100%|██████████| 400000/400000 [00:20<00:00, 19193.33it/s]\n"
          ],
          "name": "stderr"
        },
        {
          "output_type": "stream",
          "text": [
            "There are 400000 words in the vocabulary\n"
          ],
          "name": "stdout"
        }
      ]
    },
    {
      "metadata": {
        "id": "mGeix9gTk-J1",
        "colab_type": "code",
        "colab": {
          "base_uri": "https://localhost:8080/",
          "height": 34
        },
        "outputId": "62d14591-3e12-4b5a-fe7b-f7d56579ac1c"
      },
      "cell_type": "code",
      "source": [
        "glove.vectors.shape"
      ],
      "execution_count": 2,
      "outputs": [
        {
          "output_type": "execute_result",
          "data": {
            "text/plain": [
              "torch.Size([400000, 100])"
            ]
          },
          "metadata": {
            "tags": []
          },
          "execution_count": 2
        }
      ]
    },
    {
      "metadata": {
        "id": "wDFq_67_k-J5",
        "colab_type": "code",
        "colab": {
          "base_uri": "https://localhost:8080/",
          "height": 34
        },
        "outputId": "aaa57e11-8133-4210-c393-a2891cc7deb7"
      },
      "cell_type": "code",
      "source": [
        "glove.itos[:10]"
      ],
      "execution_count": 3,
      "outputs": [
        {
          "output_type": "execute_result",
          "data": {
            "text/plain": [
              "['the', ',', '.', 'of', 'to', 'and', 'in', 'a', '\"', \"'s\"]"
            ]
          },
          "metadata": {
            "tags": []
          },
          "execution_count": 3
        }
      ]
    },
    {
      "metadata": {
        "id": "nFJ1JMmDk-J9",
        "colab_type": "code",
        "colab": {
          "base_uri": "https://localhost:8080/",
          "height": 34
        },
        "outputId": "18d9d772-2741-4900-ba6c-d3ee67eb7a16"
      },
      "cell_type": "code",
      "source": [
        "glove.stoi['the']"
      ],
      "execution_count": 4,
      "outputs": [
        {
          "output_type": "execute_result",
          "data": {
            "text/plain": [
              "0"
            ]
          },
          "metadata": {
            "tags": []
          },
          "execution_count": 4
        }
      ]
    },
    {
      "metadata": {
        "id": "ukFhx003k-KB",
        "colab_type": "code",
        "colab": {
          "base_uri": "https://localhost:8080/",
          "height": 34
        },
        "outputId": "5863d4a4-5641-49b6-8220-43f601268914"
      },
      "cell_type": "code",
      "source": [
        "glove.vectors[glove.stoi['the']].shape"
      ],
      "execution_count": 5,
      "outputs": [
        {
          "output_type": "execute_result",
          "data": {
            "text/plain": [
              "torch.Size([100])"
            ]
          },
          "metadata": {
            "tags": []
          },
          "execution_count": 5
        }
      ]
    },
    {
      "metadata": {
        "id": "ihflNNAzk-KG",
        "colab_type": "code",
        "colab": {}
      },
      "cell_type": "code",
      "source": [
        "def get_vector(embeddings, word):\n",
        "    assert word in embeddings.stoi, f'*{word}* is not in the vocab!'\n",
        "    return embeddings.vectors[embeddings.stoi[word]]"
      ],
      "execution_count": 0,
      "outputs": []
    },
    {
      "metadata": {
        "id": "5fOtvu8Tk-KJ",
        "colab_type": "code",
        "colab": {
          "base_uri": "https://localhost:8080/",
          "height": 34
        },
        "outputId": "55e2a7e9-f6c9-4f77-d056-552520cd321b"
      },
      "cell_type": "code",
      "source": [
        "get_vector(glove, 'the').shape"
      ],
      "execution_count": 7,
      "outputs": [
        {
          "output_type": "execute_result",
          "data": {
            "text/plain": [
              "torch.Size([100])"
            ]
          },
          "metadata": {
            "tags": []
          },
          "execution_count": 7
        }
      ]
    },
    {
      "metadata": {
        "id": "7WGQQhhjk-KN",
        "colab_type": "code",
        "colab": {}
      },
      "cell_type": "code",
      "source": [
        "import torch\n",
        "\n",
        "def closest_words(embeddings, vector, n=10):\n",
        "    distances = [(w, torch.dist(vector, get_vector(embeddings, w)).item()) for w in embeddings.itos]\n",
        "    return sorted(distances, key = lambda w: w[1])[:n]"
      ],
      "execution_count": 0,
      "outputs": []
    },
    {
      "metadata": {
        "id": "djcE9QFGk-KQ",
        "colab_type": "code",
        "colab": {
          "base_uri": "https://localhost:8080/",
          "height": 187
        },
        "outputId": "fe9a0bc8-5b00-4640-c5ca-e8e044f513da"
      },
      "cell_type": "code",
      "source": [
        "closest_words(glove, get_vector(glove, 'korea'))"
      ],
      "execution_count": 9,
      "outputs": [
        {
          "output_type": "execute_result",
          "data": {
            "text/plain": [
              "[('korea', 0.0),\n",
              " ('pyongyang', 3.9039554595947266),\n",
              " ('korean', 4.068886756896973),\n",
              " ('dprk', 4.2631049156188965),\n",
              " ('seoul', 4.340494155883789),\n",
              " ('japan', 4.551243782043457),\n",
              " ('koreans', 4.615609169006348),\n",
              " ('south', 4.65822696685791),\n",
              " ('china', 4.839518070220947),\n",
              " ('north', 4.986356735229492)]"
            ]
          },
          "metadata": {
            "tags": []
          },
          "execution_count": 9
        }
      ]
    },
    {
      "metadata": {
        "id": "WWonRcnLk-KT",
        "colab_type": "code",
        "colab": {
          "base_uri": "https://localhost:8080/",
          "height": 187
        },
        "outputId": "e4079855-04b2-49f1-a018-eae770136dde"
      },
      "cell_type": "code",
      "source": [
        "closest_words(glove, get_vector(glove, 'india'))"
      ],
      "execution_count": 10,
      "outputs": [
        {
          "output_type": "execute_result",
          "data": {
            "text/plain": [
              "[('india', 0.0),\n",
              " ('pakistan', 3.6954822540283203),\n",
              " ('indian', 4.114313125610352),\n",
              " ('delhi', 4.155975818634033),\n",
              " ('bangladesh', 4.261017799377441),\n",
              " ('lanka', 4.435845851898193),\n",
              " ('sri', 4.515716552734375),\n",
              " ('australia', 4.806082725524902),\n",
              " ('thailand', 4.994781017303467),\n",
              " ('malaysia', 5.009334087371826)]"
            ]
          },
          "metadata": {
            "tags": []
          },
          "execution_count": 10
        }
      ]
    },
    {
      "metadata": {
        "id": "2Q4ObD7Mk-KW",
        "colab_type": "code",
        "colab": {}
      },
      "cell_type": "code",
      "source": [
        "def print_tuples(tuples):\n",
        "    for w, d in tuples:\n",
        "        print(f'({d:02.04f}) {w}') "
      ],
      "execution_count": 0,
      "outputs": []
    },
    {
      "metadata": {
        "id": "uL9MiRwck-KY",
        "colab_type": "code",
        "colab": {
          "base_uri": "https://localhost:8080/",
          "height": 187
        },
        "outputId": "49edf5e7-7907-4540-cd1f-445b9d60fd5c"
      },
      "cell_type": "code",
      "source": [
        "print_tuples(closest_words(glove, get_vector(glove, 'sports')))"
      ],
      "execution_count": 12,
      "outputs": [
        {
          "output_type": "stream",
          "text": [
            "(0.0000) sports\n",
            "(3.5875) sport\n",
            "(4.4590) soccer\n",
            "(4.6508) basketball\n",
            "(4.6561) baseball\n",
            "(4.8028) sporting\n",
            "(4.8763) football\n",
            "(4.9624) professional\n",
            "(4.9824) entertainment\n",
            "(5.0975) media\n"
          ],
          "name": "stdout"
        }
      ]
    },
    {
      "metadata": {
        "id": "YMagc6JIk-Kc",
        "colab_type": "code",
        "colab": {}
      },
      "cell_type": "code",
      "source": [
        "def analogy(embeddings, word1, word2, word3, n=5):\n",
        "    \n",
        "    candidate_words = closest_words(embeddings, get_vector(embeddings, word2) - get_vector(embeddings, word1) + get_vector(embeddings, word3), n+3)\n",
        "    \n",
        "    candidate_words = [x for x in candidate_words if x[0] not in [word1, word2, word3]][:n]\n",
        "    \n",
        "    print(f'{word1} is to {word2} as {word3} is to...')\n",
        "    \n",
        "    return candidate_words"
      ],
      "execution_count": 0,
      "outputs": []
    },
    {
      "metadata": {
        "id": "VAtUe6t0k-Ke",
        "colab_type": "code",
        "colab": {
          "base_uri": "https://localhost:8080/",
          "height": 119
        },
        "outputId": "d91c68e9-d931-497f-9c19-feab55d4493c"
      },
      "cell_type": "code",
      "source": [
        "print_tuples(analogy(glove, 'man', 'king', 'woman'))"
      ],
      "execution_count": 14,
      "outputs": [
        {
          "output_type": "stream",
          "text": [
            "man is to king as woman is to...\n",
            "(4.0811) queen\n",
            "(4.6429) monarch\n",
            "(4.9055) throne\n",
            "(4.9216) elizabeth\n",
            "(4.9811) prince\n"
          ],
          "name": "stdout"
        }
      ]
    },
    {
      "metadata": {
        "id": "UBq2xaRkk-Kh",
        "colab_type": "code",
        "colab": {
          "base_uri": "https://localhost:8080/",
          "height": 119
        },
        "outputId": "42d97aae-7e10-4d06-a22e-2001c5bde542"
      },
      "cell_type": "code",
      "source": [
        "print_tuples(analogy(glove, 'man', 'actor', 'woman'))"
      ],
      "execution_count": 15,
      "outputs": [
        {
          "output_type": "stream",
          "text": [
            "man is to actor as woman is to...\n",
            "(2.8133) actress\n",
            "(5.0039) comedian\n",
            "(5.1399) actresses\n",
            "(5.2773) starred\n",
            "(5.3085) screenwriter\n"
          ],
          "name": "stdout"
        }
      ]
    },
    {
      "metadata": {
        "id": "HXRg0Fuak-Km",
        "colab_type": "code",
        "colab": {
          "base_uri": "https://localhost:8080/",
          "height": 119
        },
        "outputId": "da409326-08ff-475d-b820-1aca4a1d0877"
      },
      "cell_type": "code",
      "source": [
        "print_tuples(analogy(glove, 'cat', 'kitten', 'dog'))"
      ],
      "execution_count": 16,
      "outputs": [
        {
          "output_type": "stream",
          "text": [
            "cat is to kitten as dog is to...\n",
            "(3.8146) puppy\n",
            "(4.2944) rottweiler\n",
            "(4.5888) puppies\n",
            "(4.6086) pooch\n",
            "(4.6520) pug\n"
          ],
          "name": "stdout"
        }
      ]
    },
    {
      "metadata": {
        "id": "kkuxKo7Kk-Kq",
        "colab_type": "code",
        "colab": {
          "base_uri": "https://localhost:8080/",
          "height": 119
        },
        "outputId": "98f577fb-bdb1-4dc5-b263-10e386d0ef09"
      },
      "cell_type": "code",
      "source": [
        "print_tuples(analogy(glove, 'france', 'paris', 'england'))"
      ],
      "execution_count": 17,
      "outputs": [
        {
          "output_type": "stream",
          "text": [
            "france is to paris as england is to...\n",
            "(4.1426) london\n",
            "(4.4938) melbourne\n",
            "(4.7087) sydney\n",
            "(4.7630) perth\n",
            "(4.7952) birmingham\n"
          ],
          "name": "stdout"
        }
      ]
    },
    {
      "metadata": {
        "id": "7Ecb8_dCk-Ks",
        "colab_type": "code",
        "colab": {
          "base_uri": "https://localhost:8080/",
          "height": 119
        },
        "outputId": "faa15c1c-48d0-447e-c30f-ce2e020de5b5"
      },
      "cell_type": "code",
      "source": [
        "print_tuples(analogy(glove, 'elvis', 'rock', 'eminem'))"
      ],
      "execution_count": 18,
      "outputs": [
        {
          "output_type": "stream",
          "text": [
            "elvis is to rock as eminem is to...\n",
            "(5.6597) rap\n",
            "(6.2057) rappers\n",
            "(6.2161) rapper\n",
            "(6.2444) punk\n",
            "(6.2690) hop\n"
          ],
          "name": "stdout"
        }
      ]
    },
    {
      "metadata": {
        "id": "ULG7LCPgk-Kw",
        "colab_type": "code",
        "colab": {
          "base_uri": "https://localhost:8080/",
          "height": 119
        },
        "outputId": "3b035e89-a016-4bb9-8eb6-913ba9add925"
      },
      "cell_type": "code",
      "source": [
        "print_tuples(analogy(glove, 'beer', 'barley', 'wine'))"
      ],
      "execution_count": 19,
      "outputs": [
        {
          "output_type": "stream",
          "text": [
            "beer is to barley as wine is to...\n",
            "(5.6021) grape\n",
            "(5.6760) beans\n",
            "(5.8174) grapes\n",
            "(5.9035) lentils\n",
            "(5.9454) figs\n"
          ],
          "name": "stdout"
        }
      ]
    },
    {
      "metadata": {
        "id": "LvixxqZQqTf-",
        "colab_type": "code",
        "colab": {
          "base_uri": "https://localhost:8080/",
          "height": 119
        },
        "outputId": "15c91ff1-40df-4366-9286-8cbca71a6424"
      },
      "cell_type": "code",
      "source": [
        "print_tuples(analogy(glove, 'yen', 'japan', 'ruble'))"
      ],
      "execution_count": 20,
      "outputs": [
        {
          "output_type": "stream",
          "text": [
            "yen is to japan as ruble is to...\n",
            "(7.0202) russia\n",
            "(7.0706) greece\n",
            "(7.1550) republic\n",
            "(7.1591) romania\n",
            "(7.1675) kazakhstan\n"
          ],
          "name": "stdout"
        }
      ]
    },
    {
      "metadata": {
        "id": "HEpiZmy9sTpU",
        "colab_type": "code",
        "colab": {
          "base_uri": "https://localhost:8080/",
          "height": 119
        },
        "outputId": "94c4bfef-19a5-407b-94ed-b9de65f51b7b"
      },
      "cell_type": "code",
      "source": [
        "print_tuples(analogy(glove, 'ottawa', 'canada', 'nairobi'))"
      ],
      "execution_count": 21,
      "outputs": [
        {
          "output_type": "stream",
          "text": [
            "ottawa is to canada as nairobi is to...\n",
            "(4.6967) kenya\n",
            "(5.3135) africa\n",
            "(5.5256) tanzania\n",
            "(5.6443) uganda\n",
            "(5.8666) asia\n"
          ],
          "name": "stdout"
        }
      ]
    },
    {
      "metadata": {
        "id": "DUgIDdxqsgKf",
        "colab_type": "code",
        "colab": {
          "base_uri": "https://localhost:8080/",
          "height": 119
        },
        "outputId": "183b3d4f-718e-4cd7-b2b4-de9a7bdce84a"
      },
      "cell_type": "code",
      "source": [
        "print_tuples(analogy(glove, 'mac', 'apple', 'windows'))"
      ],
      "execution_count": 22,
      "outputs": [
        {
          "output_type": "stream",
          "text": [
            "mac is to apple as windows is to...\n",
            "(7.0108) microsoft\n",
            "(7.0934) window\n",
            "(7.0987) glass\n",
            "(7.2496) adobe\n",
            "(7.4983) desktop\n"
          ],
          "name": "stdout"
        }
      ]
    },
    {
      "metadata": {
        "id": "H9Eg9yekqdM9",
        "colab_type": "text"
      },
      "cell_type": "markdown",
      "source": [
        "**WARNING - The larger GloVe embedding needs a lot of resources, you probably can't run the remaining code on Colab**"
      ]
    },
    {
      "metadata": {
        "id": "s_YU8znwk-Kz",
        "colab_type": "code",
        "colab": {
          "base_uri": "https://localhost:8080/",
          "height": 51
        },
        "outputId": "30f9e2a3-101c-49fb-aef3-02af53f0bc45"
      },
      "cell_type": "code",
      "source": [
        "glove_300d = torchtext.vocab.GloVe(name='840B', dim=300)"
      ],
      "execution_count": 0,
      "outputs": [
        {
          "output_type": "stream",
          "text": [
            ".vector_cache/glove.840B.300d.zip: 2.18GB [02:25, 15.0MB/s]                            \n",
            " 56%|█████▌    | 1220026/2196017 [02:47<02:13, 7299.36it/s]"
          ],
          "name": "stderr"
        }
      ]
    },
    {
      "metadata": {
        "id": "VISqiM8sk-K0",
        "colab_type": "code",
        "colab": {},
        "outputId": "c6eb6a62-7bdd-4845-df83-684ecade7fa9"
      },
      "cell_type": "code",
      "source": [
        "glove_300d.vectors.shape"
      ],
      "execution_count": 0,
      "outputs": [
        {
          "output_type": "execute_result",
          "data": {
            "text/plain": [
              "torch.Size([2196017, 300])"
            ]
          },
          "metadata": {
            "tags": []
          },
          "execution_count": 21
        }
      ]
    },
    {
      "metadata": {
        "id": "7_8TBf8_k-K4",
        "colab_type": "code",
        "colab": {},
        "outputId": "ed636b10-cb51-4884-e529-8756488d244d"
      },
      "cell_type": "code",
      "source": [
        "print_tuples(closest_words(glove_300d, get_vector(glove_300d, 'korea')))"
      ],
      "execution_count": 0,
      "outputs": [
        {
          "output_type": "stream",
          "text": [
            "(0.0000) korea\n",
            "(3.9857) taiwan\n",
            "(4.4022) korean\n",
            "(4.9016) asia\n",
            "(4.9593) japan\n",
            "(5.0721) seoul\n",
            "(5.4058) thailand\n",
            "(5.6025) singapore\n",
            "(5.7010) russia\n",
            "(5.7240) hong\n"
          ],
          "name": "stdout"
        }
      ]
    },
    {
      "metadata": {
        "id": "7pGzr3Otk-K8",
        "colab_type": "code",
        "colab": {},
        "outputId": "bc4c6032-8d5e-4bae-8b7f-c235aea6b956"
      },
      "cell_type": "code",
      "source": [
        "print_tuples(closest_words(glove_300d, get_vector(glove_300d, 'relieable')))"
      ],
      "execution_count": 0,
      "outputs": [
        {
          "output_type": "stream",
          "text": [
            "(0.0000) relieable\n",
            "(5.0366) relyable\n",
            "(5.2610) realible\n",
            "(5.4719) realiable\n",
            "(5.5402) relable\n",
            "(5.5917) relaible\n",
            "(5.6412) reliabe\n",
            "(5.8802) relaiable\n",
            "(5.9593) stabel\n",
            "(5.9981) consitant\n"
          ],
          "name": "stdout"
        }
      ]
    },
    {
      "metadata": {
        "id": "D5GPHQsIk-K-",
        "colab_type": "code",
        "colab": {}
      },
      "cell_type": "code",
      "source": [
        "reliable_vector = get_vector(glove_300d, 'reliable')\n",
        "\n",
        "reliable_misspellings = ['relieable', 'relyable', 'realible', 'realiable', 'relable', 'relaible', 'reliabe', 'relaiable']\n",
        "\n",
        "diff_reliable = [(reliable_vector - get_vector(glove_300d, s)).unsqueeze(0) for s in reliable_misspellings]"
      ],
      "execution_count": 0,
      "outputs": []
    },
    {
      "metadata": {
        "id": "QwnsgJ5Mk-LB",
        "colab_type": "code",
        "colab": {}
      },
      "cell_type": "code",
      "source": [
        "misspelling_vector = torch.cat(diff_reliable, dim=0).mean(dim=0)"
      ],
      "execution_count": 0,
      "outputs": []
    },
    {
      "metadata": {
        "id": "4cxrUzjak-LD",
        "colab_type": "code",
        "colab": {},
        "outputId": "9b43d110-8a08-48e4-fdc9-494ee8fc9728"
      },
      "cell_type": "code",
      "source": [
        "print_tuples(closest_words(glove_300d, get_vector(glove_300d, 'becuase') + misspelling_vector))"
      ],
      "execution_count": 0,
      "outputs": [
        {
          "output_type": "stream",
          "text": [
            "(6.1090) because\n",
            "(6.4250) even\n",
            "(6.4358) fact\n",
            "(6.4914) sure\n",
            "(6.5094) though\n",
            "(6.5601) obviously\n",
            "(6.5682) reason\n",
            "(6.5856) if\n",
            "(6.6099) but\n",
            "(6.6415) why\n"
          ],
          "name": "stdout"
        }
      ]
    },
    {
      "metadata": {
        "id": "NnGsJ1tmk-LE",
        "colab_type": "code",
        "colab": {},
        "outputId": "529a4c5f-4310-4826-d5a4-e48535bdea06"
      },
      "cell_type": "code",
      "source": [
        "print_tuples(closest_words(glove_300d, get_vector(glove_300d, 'defintiely') + misspelling_vector))"
      ],
      "execution_count": 0,
      "outputs": [
        {
          "output_type": "stream",
          "text": [
            "(5.4070) definitely\n",
            "(5.5643) certainly\n",
            "(5.7192) sure\n",
            "(5.8152) well\n",
            "(5.8588) always\n",
            "(5.8812) also\n",
            "(5.9557) simply\n",
            "(5.9667) consider\n",
            "(5.9821) probably\n",
            "(5.9948) definately\n"
          ],
          "name": "stdout"
        }
      ]
    },
    {
      "metadata": {
        "id": "miVcSMlgk-LG",
        "colab_type": "code",
        "colab": {},
        "outputId": "6e5ab901-5694-4c2c-a9ab-1dfc24d85466"
      },
      "cell_type": "code",
      "source": [
        "print_tuples(closest_words(glove_300d, get_vector(glove_300d, 'consistant') + misspelling_vector))"
      ],
      "execution_count": 0,
      "outputs": [
        {
          "output_type": "stream",
          "text": [
            "(5.9641) consistent\n",
            "(6.3674) reliable\n",
            "(7.0195) consistant\n",
            "(7.0299) consistently\n",
            "(7.1605) accurate\n",
            "(7.2737) fairly\n",
            "(7.3037) good\n",
            "(7.3520) reasonable\n",
            "(7.3801) dependable\n",
            "(7.4027) ensure\n"
          ],
          "name": "stdout"
        }
      ]
    },
    {
      "metadata": {
        "id": "24YgeD0ak-LJ",
        "colab_type": "code",
        "colab": {},
        "outputId": "f9728f6f-f0a0-4c69-b17a-68eda70d5303"
      },
      "cell_type": "code",
      "source": [
        "print_tuples(closest_words(glove_300d, get_vector(glove_300d, 'pakage') + misspelling_vector))"
      ],
      "execution_count": 0,
      "outputs": [
        {
          "output_type": "stream",
          "text": [
            "(6.6117) package\n",
            "(6.9315) packages\n",
            "(7.0195) pakage\n",
            "(7.0911) comes\n",
            "(7.1241) provide\n",
            "(7.1469) offer\n",
            "(7.1861) reliable\n",
            "(7.2431) well\n",
            "(7.2434) choice\n",
            "(7.2453) offering\n"
          ],
          "name": "stdout"
        }
      ]
    }
  ]
}